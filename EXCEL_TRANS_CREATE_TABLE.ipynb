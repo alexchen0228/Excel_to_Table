{
 "cells": [
  {
   "cell_type": "code",
   "execution_count": 1,
   "metadata": {},
   "outputs": [],
   "source": [
    "from openpyxl import load_workbook\n",
    "import os \n",
    "import re "
   ]
  },
  {
   "cell_type": "code",
   "execution_count": 2,
   "metadata": {},
   "outputs": [],
   "source": [
    "dirpath = '.'"
   ]
  },
  {
   "cell_type": "code",
   "execution_count": 3,
   "metadata": {},
   "outputs": [],
   "source": [
    "def list_excel_files(dirpath):\n",
    "    list_all_files = os.listdir(dirpath)\n",
    "    excel_files = []\n",
    "    for file in list_all_files:\n",
    "        if '.xlsx' in file:\n",
    "            excel_files.append(file)\n",
    "    return excel_files\n",
    "\n",
    "def excel_sheetnames_locate(excel_object):\n",
    "    book  = load_workbook(excel_object)\n",
    "    book_sheet_names = book.sheetnames\n",
    "    regex = re.compile(r\"附件1-\\d\\Z\")\n",
    "    for sheet in book_sheet_names:\n",
    "        match = regex.search(sheet)\n",
    "        if match is not None:\n",
    "            print(match.group(0))\n",
    "\n",
    "def set_col_value(col_pre,col_remove_Add):\n",
    "    col_remove = '{col_pre}{col_remove}'.format(col_pre = col_pre,col_remove = col_remove_Add)\n",
    "    col_value  = sheet_obj[col_remove].value\n",
    "    return col_value\n",
    "\n"
   ]
  },
  {
   "cell_type": "code",
   "execution_count": 5,
   "metadata": {},
   "outputs": [
    {
     "name": "stdout",
     "output_type": "stream",
     "text": [
      "TCB-BTS-後台批次-GEN_CREDIT_AUD.xlsx\n",
      "附件1-1\n",
      "附件1-2\n",
      "附件1-3\n",
      "TCB-BTS-後台批次-GEN_CREDIT_AUD_APPLY_LOGS.xlsx\n",
      "附件1-1\n",
      "附件1-2\n",
      "附件1-3\n",
      "TCB-BTS-後台批次-PBS_CUS_APPLY_TYPE_LOG.xlsx\n",
      "附件1-1\n",
      "附件1-2\n",
      "附件1-3\n",
      "TCB-BTS-後台批次-PBS_CUS_PBSQLF_LOG.xlsx\n",
      "附件1-1\n",
      "附件1-2\n",
      "附件1-3\n",
      "TCB-BTS-後台批次-PBS_CUS_RM_INFO.xlsx\n",
      "附件1-1\n",
      "附件1-2\n",
      "附件1-3\n",
      "TCB-BTS-後台批次-QUE_ANSFORMS.xlsx\n",
      "附件1-1\n",
      "附件1-2\n",
      "附件1-3\n",
      "TCB-BTS-後台批次-QUE_ANSSELS.xlsx\n",
      "附件1-1\n",
      "附件1-2\n",
      "附件1-3\n"
     ]
    }
   ],
   "source": [
    "excel_files = list_excel_files(dirpath=dirpath)\n",
    "for excel_file in excel_files:\n",
    "    print(excel_file)\n",
    "    excel_sheetnames_locate(excel_object=excel_file)"
   ]
  },
  {
   "cell_type": "code",
   "execution_count": 38,
   "metadata": {},
   "outputs": [
    {
     "name": "stdout",
     "output_type": "stream",
     "text": [
      "N/Y\n"
     ]
    }
   ],
   "source": [
    "book = load_workbook(\"TCB-BTS-後台批次-GEN_CREDIT_AUD.xlsx\")\n",
    "book_sheet    = book.sheetnames\n",
    "sheet_obj     = book[\"附件1-1\"]\n",
    "table_name    = sheet_obj['B4'].value \n",
    "table_comment = sheet_obj['B5'].value \n",
    "table_schema  = sheet_obj['B1'].value\n",
    "\n",
    "grant_permission_user = sheet_obj['G2'].value\n",
    "print(grant_permission_user)"
   ]
  },
  {
   "cell_type": "code",
   "execution_count": 39,
   "metadata": {},
   "outputs": [
    {
     "data": {
      "text/plain": [
       "'N'"
      ]
     },
     "execution_count": 39,
     "metadata": {},
     "output_type": "execute_result"
    }
   ],
   "source": [
    "grant_permission_user.split('/')[0]"
   ]
  },
  {
   "cell_type": "code",
   "execution_count": null,
   "metadata": {},
   "outputs": [],
   "source": [
    "front_label_establish = grant_permission_user.split('/')[0]\n",
    "back_label_establish  = grant_permission_user.split('/')[1]\n"
   ]
  },
  {
   "cell_type": "code",
   "execution_count": 43,
   "metadata": {},
   "outputs": [
    {
     "name": "stdout",
     "output_type": "stream",
     "text": [
      "The new directory is created!\n"
     ]
    }
   ],
   "source": [
    "import os\n",
    "\n",
    "path = '.\\\\42044_BKDB'\n",
    "os.makedirs(path, exist_ok=True)\n",
    "print(\"The new directory is created!\")"
   ]
  },
  {
   "cell_type": "code",
   "execution_count": null,
   "metadata": {},
   "outputs": [],
   "source": []
  }
 ],
 "metadata": {
  "interpreter": {
   "hash": "438727c8858bc46e257ba69863512eb04c8e9f5db9a1c7102296af502b4092eb"
  },
  "kernelspec": {
   "display_name": "Python 3.8.2 64-bit",
   "language": "python",
   "name": "python3"
  },
  "language_info": {
   "codemirror_mode": {
    "name": "ipython",
    "version": 3
   },
   "file_extension": ".py",
   "mimetype": "text/x-python",
   "name": "python",
   "nbconvert_exporter": "python",
   "pygments_lexer": "ipython3",
   "version": "3.8.2"
  },
  "orig_nbformat": 4
 },
 "nbformat": 4,
 "nbformat_minor": 2
}
