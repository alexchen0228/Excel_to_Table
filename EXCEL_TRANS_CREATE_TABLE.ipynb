{
 "cells": [
  {
   "cell_type": "code",
   "execution_count": 1,
   "metadata": {},
   "outputs": [],
   "source": [
    "from openpyxl import load_workbook\n",
    "import os \n",
    "import re "
   ]
  },
  {
   "cell_type": "code",
   "execution_count": 2,
   "metadata": {},
   "outputs": [],
   "source": [
    "dirpath = '.'"
   ]
  },
  {
   "cell_type": "code",
   "execution_count": 3,
   "metadata": {},
   "outputs": [],
   "source": [
    "def list_excel_files(dirpath):\n",
    "    list_all_files = os.listdir(dirpath)\n",
    "    excel_files = []\n",
    "    for file in list_all_files:\n",
    "        if '.xlsx' in file:\n",
    "            excel_files.append(file)\n",
    "    return excel_files\n",
    "\n",
    "def excel_sheetnames_locate(excel_object):\n",
    "    book  = load_workbook(excel_object)\n",
    "    book_sheet_names = book.sheetnames\n",
    "    regex = re.compile(r\"附件1-\\d\\Z\")\n",
    "    for sheet in book_sheet_names:\n",
    "        match = regex.search(sheet)\n",
    "        if match is not None:\n",
    "            print(match.group(0))\n",
    "\n",
    "def set_col_value(col_pre,col_remove_Add):\n",
    "    col_remove = '{col_pre}{col_remove}'.format(col_pre = col_pre,col_remove = col_remove_Add)\n",
    "    col_value  = sheet_obj[col_remove].value\n",
    "    return col_value\n",
    "\n"
   ]
  },
  {
   "cell_type": "code",
   "execution_count": 5,
   "metadata": {},
   "outputs": [
    {
     "name": "stdout",
     "output_type": "stream",
     "text": [
      "TCB-BTS-後台批次-GEN_CREDIT_AUD.xlsx\n",
      "附件1-1\n",
      "附件1-2\n",
      "附件1-3\n",
      "TCB-BTS-後台批次-GEN_CREDIT_AUD_APPLY_LOGS.xlsx\n",
      "附件1-1\n",
      "附件1-2\n",
      "附件1-3\n",
      "TCB-BTS-後台批次-PBS_CUS_APPLY_TYPE_LOG.xlsx\n",
      "附件1-1\n",
      "附件1-2\n",
      "附件1-3\n",
      "TCB-BTS-後台批次-PBS_CUS_PBSQLF_LOG.xlsx\n",
      "附件1-1\n",
      "附件1-2\n",
      "附件1-3\n",
      "TCB-BTS-後台批次-PBS_CUS_RM_INFO.xlsx\n",
      "附件1-1\n",
      "附件1-2\n",
      "附件1-3\n",
      "TCB-BTS-後台批次-QUE_ANSFORMS.xlsx\n",
      "附件1-1\n",
      "附件1-2\n",
      "附件1-3\n",
      "TCB-BTS-後台批次-QUE_ANSSELS.xlsx\n",
      "附件1-1\n",
      "附件1-2\n",
      "附件1-3\n"
     ]
    }
   ],
   "source": [
    "excel_files = list_excel_files(dirpath=dirpath)\n",
    "for excel_file in excel_files:\n",
    "    print(excel_file)\n",
    "    excel_sheetnames_locate(excel_object=excel_file)"
   ]
  },
  {
   "cell_type": "code",
   "execution_count": 10,
   "metadata": {},
   "outputs": [],
   "source": [
    "book = load_workbook(\"TCB-BTS-後台批次-GEN_CREDIT_AUD.xlsx\")\n",
    "book_sheet    = book.sheetnames\n",
    "sheet_obj     = book[\"附件1-1\"]\n",
    "table_name    = sheet_obj['B4'].value \n",
    "table_comment = sheet_obj['B5'].value \n",
    "table_schema  = sheet_obj['B1'].value"
   ]
  },
  {
   "cell_type": "code",
   "execution_count": 14,
   "metadata": {},
   "outputs": [
    {
     "name": "stdout",
     "output_type": "stream",
     "text": [
      "EMDAP41\n",
      "SELECT\n",
      "GRANT SELECT ON TABLE \"WMSR6USR\".\"IMP_GEN_CREDIT_AUD\" TO USER \"EMDAP41\" @ \n"
     ]
    }
   ],
   "source": [
    "grant_permission_user = sheet_obj['A28'].value\n",
    "grant_verb            = sheet_obj['B28'].value\n",
    "print(grant_permission_user)\n",
    "print(grant_verb)\n",
    "\n",
    "grant_value = \"\"\"GRANT {grant_verb} ON TABLE \\\"{table_schema}\\\".\\\"{table_name}\\\" TO USER \\\"{grant_permission_user}\\\" @ \"\"\".format(grant_verb = grant_verb,table_schema =table_schema,table_name = table_name, grant_permission_user =grant_permission_user)\n",
    "print(grant_value)"
   ]
  },
  {
   "cell_type": "code",
   "execution_count": 21,
   "metadata": {},
   "outputs": [],
   "source": [
    "def output_write_txt_file():\n",
    "    file_name = '{table_name}.Table.sql'.format(table_name = table_name)\n",
    "    with open(file=file_name,mode='w+',encoding='utf-8') as f :\n",
    "        f.write(output_script_part1)"
   ]
  },
  {
   "cell_type": "code",
   "execution_count": 26,
   "metadata": {},
   "outputs": [],
   "source": [
    "def set_col_value(col_pre,col_remove_Add):\n",
    "    col_remove = '{col_pre}{col_remove}'.format(col_pre = col_pre,col_remove = col_remove_Add)\n",
    "    col_value  = sheet_obj[col_remove].value\n",
    "    return col_value\n",
    "\n"
   ]
  },
  {
   "cell_type": "code",
   "execution_count": 55,
   "metadata": {},
   "outputs": [],
   "source": [
    "\n",
    "def output_script_part2():\n",
    "    col_locate = 7\n",
    "    col_Name_Value     = sheet_obj['A7'].value \n",
    "    col_Type_Value     = sheet_obj['B7'].value\n",
    "    col_Null_Value     = sheet_obj['E7'].value\n",
    "    col_Default_Value  = sheet_obj['F7'].value \n",
    "    col_all_list    = []\n",
    "    while col_Name_Value:\n",
    "        col_all_list.append([col_Name_Value,col_Type_Value,col_Null_Value,col_Default_Value])\n",
    "        col_Name_Value    = set_col_value('A',col_remove_Add=col_locate)\n",
    "        col_Type_Value    = set_col_value('B',col_remove_Add=col_locate)\n",
    "        col_Null_Value    = set_col_value('E',col_remove_Add=col_locate)\n",
    "        col_Default_Value = set_col_value('F',col_remove_Add=col_locate)\n",
    "        col_locate +=1\n",
    "    print(col_all_list)"
   ]
  },
  {
   "cell_type": "code",
   "execution_count": 53,
   "metadata": {},
   "outputs": [
    {
     "name": "stdout",
     "output_type": "stream",
     "text": [
      " \tCREDIT_NO VARCHAR(30)   , \n",
      " \tCREDIT_NO VARCHAR(30)   , \n",
      " \tUSER_IDNO VARCHAR(10)   , \n",
      " \tUSER_NAME VARGRAPHIC(100)   , \n",
      " \tAUD_STATUS VARCHAR(1)   , \n",
      " \tAUD_RESULT VARCHAR(1)   , \n",
      " \tJCIC_REPORT_DATE VARCHAR(10)  DEFAULT N , \n",
      " \tSTAFF_TYPE VARCHAR(1)   , \n",
      " \tANS_CODE VARCHAR(20)   , \n",
      " \tQUE_VERSION_ID VARCHAR(30)   , \n",
      " \tLAST_APPLY_ID VARCHAR(20)   , \n",
      " \tPROCESSING_METHOD VARCHAR(750)   , \n",
      " \tCREATE_BRAN_CODE VARCHAR(10)   , \n",
      " \tCREATE_USER_NAME VARGRAPHIC(100)   , \n",
      " \tMODIFY_BRAN_CODE VARCHAR(10)   , \n",
      " \tMODIFY_USER_NAME VARGRAPHIC(100)   , \n",
      " \tCREATE_BY VARCHAR(20)   , \n",
      " \tCREATE_DT VARCHAR(20)   , \n",
      " \tMODIFY_BY VARCHAR(20)   , \n",
      " \tMODIFY_DT VARCHAR(20)    \n"
     ]
    }
   ],
   "source": [
    "for row in col_all_list:\n",
    "#    row = ['' if i is None else i for i in row]\n",
    "    print(' \t{col_name} {col_type} {Set_null} {Set_default} {last_word} '.format(col_name = row[0],col_type = row[1],Set_null = '' if row[2] == None else row[2] \n",
    "    ,Set_default = '' if row[3] == None else ('DEFAULT {Default}').format(Default = row[3]),last_word = '' if row == col_all_list[-1] else ','  ))"
   ]
  },
  {
   "cell_type": "code",
   "execution_count": 9,
   "metadata": {},
   "outputs": [],
   "source": [
    "from openpyxl import load_workbook\n",
    "import os \n",
    "import re \n",
    "\n",
    "class Excel_to_create_Table():\n",
    "    '''定義excel轉成create_Table語法'''\n",
    "    def __init__(self,locate_column,dirpath):\n",
    "        self.locate_column = '7'\n",
    "        self.dirpath       = '.'\n",
    "\n",
    "    def list_excel_files(self):\n",
    "        list_all_files = os.listdir(self.dirpath)\n",
    "        excel_files = []\n",
    "        for file in list_all_files:\n",
    "            if '.xlsx' in file:\n",
    "                excel_files.append(file)\n",
    "        return excel_files\n",
    "\n",
    "    def excel_sheetnames_locate(excel_object):\n",
    "        book  = load_workbook(excel_object)\n",
    "        book_sheet_names = book.sheetnames\n",
    "        regex = re.compile(r\"附件1-\\d\\Z\")\n",
    "        for sheet in book_sheet_names:\n",
    "            match = regex.search(sheet)\n",
    "            if match is not None:\n",
    "                print(match.group(0))\n",
    "\n",
    "    def process_excel_sheet(list_excel_files):\n",
    "        for excel_file in excel_files:\n",
    "            print(excel_file)\n",
    "            excel_sheetnames_locate(excel_object=excel_file)\n",
    "             \n",
    "    def set_col_value(self,col_pre,col_remove_Add):\n",
    "        col_remove = '{col_pre}{col_remove}'.format(col_pre = col_pre,col_remove = self.locate_column)\n",
    "        col_value  = sheet_obj[col_remove].value\n",
    "        return col_value\n",
    "    \n",
    "    def output_write_txt_file():\n",
    "        file_name = '{table_name}.Table.sql'.format(table_name = table_name)\n",
    "        with open(file=file_name,mode='w+',encoding='utf-8') as f :\n",
    "            f.write()\n",
    "    \n",
    "#    def assemble_comment_script():"
   ]
  },
  {
   "cell_type": "code",
   "execution_count": 6,
   "metadata": {},
   "outputs": [],
   "source": [
    "excel_files_path = input(\"請告訴我excel路徑?\\n\")\n"
   ]
  },
  {
   "cell_type": "code",
   "execution_count": 10,
   "metadata": {},
   "outputs": [
    {
     "name": "stdout",
     "output_type": "stream",
     "text": [
      "--===================================================================\n",
      "--AUTHOR      : Bruce\n",
      "--COMMENT     : Issue #42044 IMP_GEN_CREDIT_AUD  RM信用查詢檢核匯入IMP層\n",
      "--===================================================================\n",
      "CREATE  TABLE WMSR6USR.IMP_GEN_CREDIT_AUD (\n",
      " \n"
     ]
    }
   ],
   "source": [
    "def output_script_part1():\n",
    "    output_script_part1 = \"\"\"--===================================================================\\n--AUTHOR      : {author}\\n--COMMENT     : {Issue} {table_name}  {comment}\\n--===================================================================\\nCREATE  TABLE WMSR6USR.{table_name} (\\n \"\"\".format(author = 'Bruce',Issue = 'Issue #42044',table_name ='IMP_GEN_CREDIT_AUD',comment ='RM信用查詢檢核匯入IMP層')\n",
    "    print(output_script_part1) "
   ]
  },
  {
   "cell_type": "code",
   "execution_count": 18,
   "metadata": {},
   "outputs": [
    {
     "name": "stdout",
     "output_type": "stream",
     "text": [
      "IMP_GEN_CREDIT_AUD\n"
     ]
    }
   ],
   "source": [
    "col_value_A  = sheet_obj['B4'].value\n",
    "print(col_value_A)"
   ]
  },
  {
   "cell_type": "code",
   "execution_count": null,
   "metadata": {},
   "outputs": [],
   "source": []
  }
 ],
 "metadata": {
  "interpreter": {
   "hash": "438727c8858bc46e257ba69863512eb04c8e9f5db9a1c7102296af502b4092eb"
  },
  "kernelspec": {
   "display_name": "Python 3.8.2 64-bit",
   "language": "python",
   "name": "python3"
  },
  "language_info": {
   "codemirror_mode": {
    "name": "ipython",
    "version": 3
   },
   "file_extension": ".py",
   "mimetype": "text/x-python",
   "name": "python",
   "nbconvert_exporter": "python",
   "pygments_lexer": "ipython3",
   "version": "3.8.2"
  },
  "orig_nbformat": 4
 },
 "nbformat": 4,
 "nbformat_minor": 2
}
